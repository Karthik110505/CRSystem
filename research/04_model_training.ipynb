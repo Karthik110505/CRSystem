{
 "cells": [
  {
   "cell_type": "code",
   "execution_count": 1,
   "metadata": {},
   "outputs": [],
   "source": [
    "import os"
   ]
  },
  {
   "cell_type": "code",
   "execution_count": 2,
   "metadata": {},
   "outputs": [
    {
     "data": {
      "text/plain": [
       "'/home/karthik-111/professional/Data_Science/projects/CRSystem/research'"
      ]
     },
     "execution_count": 2,
     "metadata": {},
     "output_type": "execute_result"
    }
   ],
   "source": [
    "%pwd"
   ]
  },
  {
   "cell_type": "code",
   "execution_count": 3,
   "metadata": {},
   "outputs": [],
   "source": [
    "os.chdir(\"../\")"
   ]
  },
  {
   "cell_type": "code",
   "execution_count": 4,
   "metadata": {},
   "outputs": [
    {
     "data": {
      "text/plain": [
       "'/home/karthik-111/professional/Data_Science/projects/CRSystem'"
      ]
     },
     "execution_count": 4,
     "metadata": {},
     "output_type": "execute_result"
    }
   ],
   "source": [
    "%pwd"
   ]
  },
  {
   "cell_type": "code",
   "execution_count": 5,
   "metadata": {},
   "outputs": [],
   "source": [
    "from dataclasses import dataclass\n",
    "from pathlib import Path\n",
    "\n",
    "\n",
    "@dataclass(frozen=True)\n",
    "class ModelTrainerConfig:\n",
    "    root_dir: Path\n",
    "    train_data_path: Path\n",
    "    model_name: str\n",
    "    target_column: str"
   ]
  },
  {
   "cell_type": "code",
   "execution_count": 6,
   "metadata": {},
   "outputs": [],
   "source": [
    "from mlProject.constants import *\n",
    "from mlProject.utils.common import read_yaml, create_directories"
   ]
  },
  {
   "cell_type": "code",
   "execution_count": 7,
   "metadata": {},
   "outputs": [],
   "source": [
    "class ConfigurationManager:\n",
    "    def __init__(\n",
    "        self,\n",
    "        config_filepath = CONFIG_FILE_PATH,\n",
    "        params_filepath = PARAMS_FILE_PATH,\n",
    "        schema_filepath = SCHEMA_FILE_PATH):\n",
    "\n",
    "        self.config = read_yaml(config_filepath)\n",
    "        self.schema = read_yaml(schema_filepath)\n",
    "\n",
    "        create_directories([self.config.artifacts_root])\n",
    "\n",
    "\n",
    "    \n",
    "    def get_model_trainer_config(self) -> ModelTrainerConfig:\n",
    "        config = self.config.model_trainer\n",
    "        schema =  self.schema.TARGET_COLUMN\n",
    "\n",
    "        create_directories([config.root_dir])\n",
    "\n",
    "        model_trainer_config = ModelTrainerConfig(\n",
    "            root_dir=config.root_dir,\n",
    "            train_data_path = config.train_data_path,\n",
    "            model_name = config.model_name,\n",
    "            target_column = schema.name\n",
    "            \n",
    "        )\n",
    "\n",
    "        return model_trainer_config\n"
   ]
  },
  {
   "cell_type": "code",
   "execution_count": 8,
   "metadata": {},
   "outputs": [],
   "source": [
    "import pandas as pd\n",
    "import os\n",
    "from mlProject import logger\n",
    "from sklearn.ensemble import RandomForestClassifier\n",
    "import joblib"
   ]
  },
  {
   "cell_type": "code",
   "execution_count": 12,
   "metadata": {},
   "outputs": [],
   "source": [
    "class ModelTrainer:\n",
    "    def __init__(self, config: ModelTrainerConfig):\n",
    "        self.config = config\n",
    "\n",
    "\n",
    "    \n",
    "    def train(self):\n",
    "        train_data = pd.read_csv(self.config.train_data_path)\n",
    "\n",
    "\n",
    "        train_x = train_data.drop([self.config.target_column], axis=1)\n",
    "        train_y = train_data[[self.config.target_column]]\n",
    "\n",
    "        rand = RandomForestClassifier()\n",
    "        rand.fit(train_x, train_y)\n",
    "\n",
    "        joblib.dump(rand, os.path.join(self.config.root_dir, self.config.model_name))\n",
    "\n",
    "        return rand\n",
    "\n"
   ]
  },
  {
   "cell_type": "code",
   "execution_count": 13,
   "metadata": {},
   "outputs": [
    {
     "name": "stdout",
     "output_type": "stream",
     "text": [
      "[2024-03-25 10:46:18,072: INFO: common: yaml file: config/config.yaml loaded successfully]\n",
      "[2024-03-25 10:46:18,078: INFO: common: yaml file: schema.yaml loaded successfully]\n",
      "[2024-03-25 10:46:18,081: INFO: common: created directory at: artifacts]\n",
      "[2024-03-25 10:46:18,082: INFO: common: created directory at: artifacts/model_trainer]\n"
     ]
    },
    {
     "name": "stderr",
     "output_type": "stream",
     "text": [
      "/home/karthik-111/miniconda3/envs/crs/lib/python3.12/site-packages/sklearn/base.py:1474: DataConversionWarning: A column-vector y was passed when a 1d array was expected. Please change the shape of y to (n_samples,), for example using ravel().\n",
      "  return fit_method(estimator, *args, **kwargs)\n"
     ]
    }
   ],
   "source": [
    "try:\n",
    "    config = ConfigurationManager()\n",
    "    model_trainer_config = config.get_model_trainer_config()\n",
    "    model_trainer_config = ModelTrainer(config=model_trainer_config)\n",
    "    model_trainer_config.train()                                                                                                                                                                                                                                                                                                                                                                                                                                                                                                                                                                                                                                                                       \n",
    "except Exception as e:\n",
    "    raise e"
   ]
  },
  {
   "cell_type": "code",
   "execution_count": 16,
   "metadata": {},
   "outputs": [],
   "source": [
    "import joblib"
   ]
  },
  {
   "cell_type": "code",
   "execution_count": 17,
   "metadata": {},
   "outputs": [],
   "source": [
    "ds_cols=joblib.load(\"artifacts/data_transformation/ds_cols.joblib\")"
   ]
  },
  {
   "cell_type": "code",
   "execution_count": 19,
   "metadata": {},
   "outputs": [
    {
     "name": "stderr",
     "output_type": "stream",
     "text": [
      "/tmp/ipykernel_36291/4186083598.py:17: FutureWarning: Downcasting object dtype arrays on .fillna, .ffill, .bfill is deprecated and will change in a future version. Call result.infer_objects(copy=False) instead. To opt-in to the future behavior, set `pd.set_option('future.no_silent_downcasting', True)`\n",
      "  data.fillna(0,inplace=True)\n"
     ]
    },
    {
     "data": {
      "text/html": [
       "<div>\n",
       "<style scoped>\n",
       "    .dataframe tbody tr th:only-of-type {\n",
       "        vertical-align: middle;\n",
       "    }\n",
       "\n",
       "    .dataframe tbody tr th {\n",
       "        vertical-align: top;\n",
       "    }\n",
       "\n",
       "    .dataframe thead th {\n",
       "        text-align: right;\n",
       "    }\n",
       "</style>\n",
       "<table border=\"1\" class=\"dataframe\">\n",
       "  <thead>\n",
       "    <tr style=\"text-align: right;\">\n",
       "      <th></th>\n",
       "      <th>Online</th>\n",
       "      <th>Total_Tuition_Cost</th>\n",
       "      <th>Program_Years_Full_Time</th>\n",
       "      <th>Need_GRE</th>\n",
       "      <th>Institution Type</th>\n",
       "      <th>City_Albany</th>\n",
       "      <th>City_Ann Arbor</th>\n",
       "      <th>City_Atlanta</th>\n",
       "      <th>City_Auburn</th>\n",
       "      <th>City_Austin</th>\n",
       "      <th>...</th>\n",
       "      <th>City_Stockton</th>\n",
       "      <th>City_Stony Brook</th>\n",
       "      <th>City_Storrs</th>\n",
       "      <th>City_Syracuse</th>\n",
       "      <th>City_Tallahassee</th>\n",
       "      <th>City_Tempe</th>\n",
       "      <th>City_Tucson</th>\n",
       "      <th>City_University Park</th>\n",
       "      <th>City_Washington</th>\n",
       "      <th>City_Worcester</th>\n",
       "    </tr>\n",
       "  </thead>\n",
       "  <tbody>\n",
       "    <tr>\n",
       "      <th>0</th>\n",
       "      <td>0</td>\n",
       "      <td>60000</td>\n",
       "      <td>1.0</td>\n",
       "      <td>0</td>\n",
       "      <td>0</td>\n",
       "      <td>0</td>\n",
       "      <td>0</td>\n",
       "      <td>0</td>\n",
       "      <td>0</td>\n",
       "      <td>0</td>\n",
       "      <td>...</td>\n",
       "      <td>0</td>\n",
       "      <td>0</td>\n",
       "      <td>0</td>\n",
       "      <td>0</td>\n",
       "      <td>0</td>\n",
       "      <td>0</td>\n",
       "      <td>0</td>\n",
       "      <td>0</td>\n",
       "      <td>0</td>\n",
       "      <td>0</td>\n",
       "    </tr>\n",
       "  </tbody>\n",
       "</table>\n",
       "<p>1 rows × 85 columns</p>\n",
       "</div>"
      ],
      "text/plain": [
       "   Online  Total_Tuition_Cost  Program_Years_Full_Time  Need_GRE  \\\n",
       "0       0               60000                      1.0         0   \n",
       "\n",
       "   Institution Type  City_Albany  City_Ann Arbor  City_Atlanta  City_Auburn  \\\n",
       "0                 0            0               0             0            0   \n",
       "\n",
       "   City_Austin  ...  City_Stockton  City_Stony Brook  City_Storrs  \\\n",
       "0            0  ...              0                 0            0   \n",
       "\n",
       "   City_Syracuse  City_Tallahassee  City_Tempe  City_Tucson  \\\n",
       "0              0                 0           0            0   \n",
       "\n",
       "   City_University Park  City_Washington  City_Worcester  \n",
       "0                     0                0               0  \n",
       "\n",
       "[1 rows x 85 columns]"
      ]
     },
     "execution_count": 19,
     "metadata": {},
     "output_type": "execute_result"
    }
   ],
   "source": [
    "predict_values = {}\n",
    "for i in ds_cols:   \n",
    "    predict_values[i]=None\n",
    "\n",
    "predict_values[\"Online\"] =   0 \n",
    "predict_values[\"Total_Tuition_Cost\"]= 60000\n",
    "predict_values[\"Program_Years_Full_Time\"]= 1.0\n",
    "predict_values[\"Need_GRE\"]= 0 \n",
    "predict_values[\"Institution Type\"]= 0\n",
    "\n",
    "for i in predict_values.keys():\n",
    "    if i == \"City_\"+\"New York City\":\n",
    "        predict_values[i]=1\n",
    "    index = range(1)\n",
    "\n",
    "data=pd.DataFrame(predict_values,index=index)\n",
    "data.fillna(0,inplace=True)   \n",
    "data\n",
    "\n"
   ]
  },
  {
   "cell_type": "code",
   "execution_count": 25,
   "metadata": {},
   "outputs": [],
   "source": [
    "from sklearn.preprocessing import StandardScaler"
   ]
  },
  {
   "cell_type": "code",
   "execution_count": 29,
   "metadata": {},
   "outputs": [
    {
     "data": {
      "text/html": [
       "<div>\n",
       "<style scoped>\n",
       "    .dataframe tbody tr th:only-of-type {\n",
       "        vertical-align: middle;\n",
       "    }\n",
       "\n",
       "    .dataframe tbody tr th {\n",
       "        vertical-align: top;\n",
       "    }\n",
       "\n",
       "    .dataframe thead th {\n",
       "        text-align: right;\n",
       "    }\n",
       "</style>\n",
       "<table border=\"1\" class=\"dataframe\">\n",
       "  <thead>\n",
       "    <tr style=\"text-align: right;\">\n",
       "      <th></th>\n",
       "      <th>Online</th>\n",
       "      <th>Total_Tuition_Cost</th>\n",
       "      <th>Program_Years_Full_Time</th>\n",
       "      <th>Need_GRE</th>\n",
       "      <th>Institution Type</th>\n",
       "      <th>City_Albany</th>\n",
       "      <th>City_Ann Arbor</th>\n",
       "      <th>City_Atlanta</th>\n",
       "      <th>City_Auburn</th>\n",
       "      <th>City_Austin</th>\n",
       "      <th>...</th>\n",
       "      <th>City_Stockton</th>\n",
       "      <th>City_Stony Brook</th>\n",
       "      <th>City_Storrs</th>\n",
       "      <th>City_Syracuse</th>\n",
       "      <th>City_Tallahassee</th>\n",
       "      <th>City_Tempe</th>\n",
       "      <th>City_Tucson</th>\n",
       "      <th>City_University Park</th>\n",
       "      <th>City_Washington</th>\n",
       "      <th>City_Worcester</th>\n",
       "    </tr>\n",
       "  </thead>\n",
       "  <tbody>\n",
       "    <tr>\n",
       "      <th>0</th>\n",
       "      <td>0</td>\n",
       "      <td>0.0</td>\n",
       "      <td>1.0</td>\n",
       "      <td>0</td>\n",
       "      <td>0</td>\n",
       "      <td>0</td>\n",
       "      <td>0</td>\n",
       "      <td>0</td>\n",
       "      <td>0</td>\n",
       "      <td>0</td>\n",
       "      <td>...</td>\n",
       "      <td>0</td>\n",
       "      <td>0</td>\n",
       "      <td>0</td>\n",
       "      <td>0</td>\n",
       "      <td>0</td>\n",
       "      <td>0</td>\n",
       "      <td>0</td>\n",
       "      <td>0</td>\n",
       "      <td>0</td>\n",
       "      <td>0</td>\n",
       "    </tr>\n",
       "  </tbody>\n",
       "</table>\n",
       "<p>1 rows × 85 columns</p>\n",
       "</div>"
      ],
      "text/plain": [
       "   Online  Total_Tuition_Cost  Program_Years_Full_Time  Need_GRE  \\\n",
       "0       0                 0.0                      1.0         0   \n",
       "\n",
       "   Institution Type  City_Albany  City_Ann Arbor  City_Atlanta  City_Auburn  \\\n",
       "0                 0            0               0             0            0   \n",
       "\n",
       "   City_Austin  ...  City_Stockton  City_Stony Brook  City_Storrs  \\\n",
       "0            0  ...              0                 0            0   \n",
       "\n",
       "   City_Syracuse  City_Tallahassee  City_Tempe  City_Tucson  \\\n",
       "0              0                 0           0            0   \n",
       "\n",
       "   City_University Park  City_Washington  City_Worcester  \n",
       "0                     0                0               0  \n",
       "\n",
       "[1 rows x 85 columns]"
      ]
     },
     "execution_count": 29,
     "metadata": {},
     "output_type": "execute_result"
    }
   ],
   "source": [
    "sc = StandardScaler()\n",
    "data[[\"Total_Tuition_Cost\"]]=sc.fit_transform(data[[\"Total_Tuition_Cost\"]])\n",
    "data"
   ]
  },
  {
   "cell_type": "code",
   "execution_count": 31,
   "metadata": {},
   "outputs": [
    {
     "name": "stderr",
     "output_type": "stream",
     "text": [
      "/home/karthik-111/miniconda3/envs/crs/lib/python3.12/site-packages/sklearn/base.py:1474: DataConversionWarning: A column-vector y was passed when a 1d array was expected. Please change the shape of y to (n_samples,), for example using ravel().\n",
      "  return fit_method(estimator, *args, **kwargs)\n",
      "/home/karthik-111/miniconda3/envs/crs/lib/python3.12/site-packages/sklearn/base.py:493: UserWarning: X does not have valid feature names, but RandomForestClassifier was fitted with feature names\n",
      "  warnings.warn(\n"
     ]
    },
    {
     "data": {
      "text/plain": [
       "'Pace University'"
      ]
     },
     "execution_count": 31,
     "metadata": {},
     "output_type": "execute_result"
    }
   ],
   "source": [
    "model_trainer_config.train().predict(data)[0]"
   ]
  },
  {
   "cell_type": "code",
   "execution_count": null,
   "metadata": {},
   "outputs": [],
   "source": []
  }
 ],
 "metadata": {
  "kernelspec": {
   "display_name": "recommend",
   "language": "python",
   "name": "python3"
  },
  "language_info": {
   "codemirror_mode": {
    "name": "ipython",
    "version": 3
   },
   "file_extension": ".py",
   "mimetype": "text/x-python",
   "name": "python",
   "nbconvert_exporter": "python",
   "pygments_lexer": "ipython3",
   "version": "3.12.2"
  }
 },
 "nbformat": 4,
 "nbformat_minor": 2
}
