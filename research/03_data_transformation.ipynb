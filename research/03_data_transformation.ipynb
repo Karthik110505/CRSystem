{
 "cells": [
  {
   "cell_type": "code",
   "execution_count": 1,
   "metadata": {},
   "outputs": [],
   "source": [
    "import os"
   ]
  },
  {
   "cell_type": "code",
   "execution_count": 2,
   "metadata": {},
   "outputs": [
    {
     "data": {
      "text/plain": [
       "'/home/karthik-111/professional/Data_Science/projects/CRSystem/research'"
      ]
     },
     "execution_count": 2,
     "metadata": {},
     "output_type": "execute_result"
    }
   ],
   "source": [
    "%pwd"
   ]
  },
  {
   "cell_type": "code",
   "execution_count": 3,
   "metadata": {},
   "outputs": [],
   "source": [
    "os.chdir(\"../\")"
   ]
  },
  {
   "cell_type": "code",
   "execution_count": 4,
   "metadata": {},
   "outputs": [
    {
     "data": {
      "text/plain": [
       "'/home/karthik-111/professional/Data_Science/projects/CRSystem'"
      ]
     },
     "execution_count": 4,
     "metadata": {},
     "output_type": "execute_result"
    }
   ],
   "source": [
    "%pwd"
   ]
  },
  {
   "cell_type": "code",
   "execution_count": 5,
   "metadata": {},
   "outputs": [],
   "source": [
    "from dataclasses import dataclass\n",
    "from pathlib import Path\n",
    "\n",
    "\n",
    "@dataclass(frozen=True)\n",
    "class DataTransformationConfig:\n",
    "    root_dir: Path\n",
    "    data_path: Path\n",
    "    original_data: str\n",
    "    distances_data: str \n",
    "    ds_cols : str\n",
    "    Scaling : str"
   ]
  },
  {
   "cell_type": "code",
   "execution_count": 6,
   "metadata": {},
   "outputs": [],
   "source": [
    "from mlProject.constants import *\n",
    "from mlProject.utils.common import read_yaml, create_directories,load_bin,save_bin,save_bin_data,save_bin_array"
   ]
  },
  {
   "cell_type": "code",
   "execution_count": 7,
   "metadata": {},
   "outputs": [],
   "source": [
    "class ConfigurationManager:\n",
    "    def __init__(\n",
    "        self,\n",
    "        config_filepath = CONFIG_FILE_PATH,\n",
    "        params_filepath = PARAMS_FILE_PATH,\n",
    "        schema_filepath = SCHEMA_FILE_PATH):\n",
    "\n",
    "        self.config = read_yaml(config_filepath)\n",
    "        self.params = read_yaml(params_filepath)\n",
    "        self.schema = read_yaml(schema_filepath)\n",
    "\n",
    "        create_directories([self.config.artifacts_root])\n",
    "\n",
    "    \n",
    "    def get_data_transformation_config(self) -> DataTransformationConfig:\n",
    "        config = self.config.data_transformation\n",
    "\n",
    "        create_directories([config.root_dir])\n",
    "\n",
    "        data_transformation_config = DataTransformationConfig(\n",
    "            root_dir=config.root_dir,\n",
    "            data_path=config.data_path,\n",
    "            original_data= config.original_data,\n",
    "            distances_data= config.distances_data,\n",
    "            ds_cols=config.ds_cols  , \n",
    "            Scaling = config.Scaling\n",
    "        )\n",
    "\n",
    "        return data_transformation_config\n"
   ]
  },
  {
   "cell_type": "code",
   "execution_count": 8,
   "metadata": {},
   "outputs": [],
   "source": [
    "import os\n",
    "from mlProject import logger\n",
    "from sklearn.model_selection import train_test_split\n",
    "import pandas as pd\n",
    "from sklearn.preprocessing import StandardScaler\n",
    "from sklearn.metrics.pairwise import cosine_similarity\n",
    "from pathlib import Path\n",
    "from typing import Any\n",
    "import numpy as np"
   ]
  },
  {
   "cell_type": "code",
   "execution_count": 21,
   "metadata": {},
   "outputs": [],
   "source": [
    "class DataTransformation:\n",
    "    def __init__(self, config: DataTransformationConfig):\n",
    "        self.config = config\n",
    "        self.data = pd.read_csv(self.config.data_path)\n",
    "        \n",
    "    def original(self):\n",
    "        save_bin_data(self.data, Path(os.path.join(self.config.root_dir, self.config.original_data)))\n",
    "        Scaling= StandardScaler()\n",
    "        Scaling.fit(self.data[[\"Total_Tuition_Cost\"]])\n",
    "        save_bin(Scaling,Path(os.path.join(self.config.root_dir, self.config.Scaling)))\n",
    "\n",
    "    \n",
    "    def transform(self):\n",
    "        self.data[\"Online\"]=self.data[\"Online\"].apply(lambda x : 1 if x == \"Online\" else 0)\n",
    "        self.data[\"Need_GRE\"]=self.data[\"Need_GRE\"].apply(lambda x : 1 if x == \"Needed\" else 0)\n",
    "        self.data[\"Institution Type\"]=self.data[\"Institution Type\"].apply(lambda x : 1 if x == \"Public\" else 0)\n",
    "        sc= StandardScaler()\n",
    "        self.data[[\"Ranking\",\"Total_Tuition_Cost\",\"Median_Salary_10yr\"]]=sc.fit_transform(self.data[[\"Ranking\",\n",
    "                                                                                       \"Total_Tuition_Cost\",\n",
    "                                                                                       \"Median_Salary_10yr\"]])\n",
    "    \n",
    "    def distances(self):\n",
    "        df  = self.data.copy()\n",
    "        pd.set_option('future.no_silent_downcasting', True)\n",
    "        df.drop([\"LINK\"],axis=\"columns\",inplace=True)\n",
    "        df.drop([\"School Name\"],axis=\"columns\",inplace=True)\n",
    "        df=pd.get_dummies(df)\n",
    "        df.replace(False,0,inplace=True)\n",
    "        df.replace(True,1,inplace=True)\n",
    "        cos_sim = cosine_similarity(df)\n",
    "        save_bin_array(cos_sim,Path(os.path.join(self.config.root_dir,self.config.distances_data)))\n",
    "    \n",
    "    def save_train_Data(self):\n",
    "        df  = self.data.copy()\n",
    "        df=df.drop([\"State\",\"Ranking\",\"Min_Undergraduate_GPA\",\n",
    "                    \"Median_Salary_10yr\",\"LINK\"],axis=\"columns\")  \n",
    "        dummies=pd.get_dummies(df.drop([\"School Name\"],axis=\"columns\"))\n",
    "        df = pd.concat([df[\"School Name\"],dummies],axis=\"columns\")\n",
    "        df.replace(False,0,inplace=True)\n",
    "        df.replace(True,1,inplace=True)  \n",
    "        \n",
    "        df.to_csv(os.path.join(self.config.root_dir, \"train.csv\"),index = False)\n",
    "\n",
    "        logger.info(\"Saved data for training\")\n",
    "        ds_cols  =np.array(df.columns.to_list()[1:])\n",
    "        save_bin_array(ds_cols,Path(os.path.join(self.config.root_dir,self.config.ds_cols)))\n",
    "\n",
    "        logger.info(\"Saved columns names\")"
   ]
  },
  {
   "cell_type": "code",
   "execution_count": 22,
   "metadata": {},
   "outputs": [
    {
     "name": "stdout",
     "output_type": "stream",
     "text": [
      "[2024-03-25 11:22:27,500: INFO: common: yaml file: config/config.yaml loaded successfully]\n",
      "[2024-03-25 11:22:27,507: INFO: common: yaml file: params.yaml loaded successfully]\n",
      "[2024-03-25 11:22:27,512: INFO: common: yaml file: schema.yaml loaded successfully]\n",
      "[2024-03-25 11:22:27,514: INFO: common: created directory at: artifacts]\n",
      "[2024-03-25 11:22:27,516: INFO: common: created directory at: artifacts/data_transformation]\n"
     ]
    }
   ],
   "source": [
    "try:\n",
    "    config = ConfigurationManager()\n",
    "    data_transformation_config = config.get_data_transformation_config()\n",
    "    data_transformation = DataTransformation(config=data_transformation_config)\n",
    "except Exception as e:\n",
    "    raise e"
   ]
  },
  {
   "cell_type": "code",
   "execution_count": 25,
   "metadata": {},
   "outputs": [
    {
     "name": "stdout",
     "output_type": "stream",
     "text": [
      "[2024-03-25 11:23:29,639: INFO: common: binary file saved at: artifacts/data_transformation/original.joblib]\n",
      "[2024-03-25 11:23:29,655: INFO: common: binary file saved at: artifacts/data_transformation/Scaling.joblib]\n"
     ]
    },
    {
     "data": {
      "text/html": [
       "<div>\n",
       "<style scoped>\n",
       "    .dataframe tbody tr th:only-of-type {\n",
       "        vertical-align: middle;\n",
       "    }\n",
       "\n",
       "    .dataframe tbody tr th {\n",
       "        vertical-align: top;\n",
       "    }\n",
       "\n",
       "    .dataframe thead th {\n",
       "        text-align: right;\n",
       "    }\n",
       "</style>\n",
       "<table border=\"1\" class=\"dataframe\">\n",
       "  <thead>\n",
       "    <tr style=\"text-align: right;\">\n",
       "      <th></th>\n",
       "      <th>School Name</th>\n",
       "      <th>State</th>\n",
       "      <th>City</th>\n",
       "      <th>Ranking</th>\n",
       "      <th>Online</th>\n",
       "      <th>Total_Tuition_Cost</th>\n",
       "      <th>Program_Years_Full_Time</th>\n",
       "      <th>Min_Undergraduate_GPA</th>\n",
       "      <th>Median_Salary_10yr</th>\n",
       "      <th>Need_GRE</th>\n",
       "      <th>Institution Type</th>\n",
       "      <th>LINK</th>\n",
       "    </tr>\n",
       "  </thead>\n",
       "  <tbody>\n",
       "    <tr>\n",
       "      <th>0</th>\n",
       "      <td>Columbia University</td>\n",
       "      <td>NY</td>\n",
       "      <td>New York City</td>\n",
       "      <td>5</td>\n",
       "      <td>Offline</td>\n",
       "      <td>68160</td>\n",
       "      <td>1.0</td>\n",
       "      <td>3.7</td>\n",
       "      <td>132100</td>\n",
       "      <td>Not Needed</td>\n",
       "      <td>Private</td>\n",
       "      <td>NaN</td>\n",
       "    </tr>\n",
       "    <tr>\n",
       "      <th>1</th>\n",
       "      <td>University of Texas-Austin</td>\n",
       "      <td>TX</td>\n",
       "      <td>Austin</td>\n",
       "      <td>45</td>\n",
       "      <td>Online</td>\n",
       "      <td>10000</td>\n",
       "      <td>2.0</td>\n",
       "      <td>3.0</td>\n",
       "      <td>115600</td>\n",
       "      <td>Needed</td>\n",
       "      <td>Public</td>\n",
       "      <td>NaN</td>\n",
       "    </tr>\n",
       "    <tr>\n",
       "      <th>2</th>\n",
       "      <td>University of Southern California</td>\n",
       "      <td>CA</td>\n",
       "      <td>Los Angeles</td>\n",
       "      <td>17</td>\n",
       "      <td>Offline</td>\n",
       "      <td>47880</td>\n",
       "      <td>1.5</td>\n",
       "      <td>3.5</td>\n",
       "      <td>126300</td>\n",
       "      <td>Not Needed</td>\n",
       "      <td>Private</td>\n",
       "      <td>http://www.marshall.usc.edu</td>\n",
       "    </tr>\n",
       "    <tr>\n",
       "      <th>3</th>\n",
       "      <td>University of Miami</td>\n",
       "      <td>FL</td>\n",
       "      <td>Miami</td>\n",
       "      <td>87</td>\n",
       "      <td>Offline</td>\n",
       "      <td>66390</td>\n",
       "      <td>1.5</td>\n",
       "      <td>3.0</td>\n",
       "      <td>101000</td>\n",
       "      <td>Not Needed</td>\n",
       "      <td>Private</td>\n",
       "      <td>http://www.bus.miami.edu</td>\n",
       "    </tr>\n",
       "    <tr>\n",
       "      <th>4</th>\n",
       "      <td>Syracuse University</td>\n",
       "      <td>NY</td>\n",
       "      <td>Syracuse</td>\n",
       "      <td>113</td>\n",
       "      <td>Online</td>\n",
       "      <td>58956</td>\n",
       "      <td>1.5</td>\n",
       "      <td>3.0</td>\n",
       "      <td>109100</td>\n",
       "      <td>Not Needed</td>\n",
       "      <td>Private</td>\n",
       "      <td>https://requestinfo.onlinebusiness.syr.edu</td>\n",
       "    </tr>\n",
       "    <tr>\n",
       "      <th>...</th>\n",
       "      <td>...</td>\n",
       "      <td>...</td>\n",
       "      <td>...</td>\n",
       "      <td>...</td>\n",
       "      <td>...</td>\n",
       "      <td>...</td>\n",
       "      <td>...</td>\n",
       "      <td>...</td>\n",
       "      <td>...</td>\n",
       "      <td>...</td>\n",
       "      <td>...</td>\n",
       "      <td>...</td>\n",
       "    </tr>\n",
       "    <tr>\n",
       "      <th>109</th>\n",
       "      <td>Georgia State University</td>\n",
       "      <td>GA</td>\n",
       "      <td>Atlanta</td>\n",
       "      <td>241</td>\n",
       "      <td>Offline</td>\n",
       "      <td>45000</td>\n",
       "      <td>1.0</td>\n",
       "      <td>3.0</td>\n",
       "      <td>90900</td>\n",
       "      <td>Not Needed</td>\n",
       "      <td>Public</td>\n",
       "      <td>http://specialized.robinson.gsu.edu</td>\n",
       "    </tr>\n",
       "    <tr>\n",
       "      <th>110</th>\n",
       "      <td>Pace University</td>\n",
       "      <td>NY</td>\n",
       "      <td>New York City</td>\n",
       "      <td>243</td>\n",
       "      <td>Offline</td>\n",
       "      <td>41250</td>\n",
       "      <td>1.0</td>\n",
       "      <td>3.0</td>\n",
       "      <td>111800</td>\n",
       "      <td>Not Needed</td>\n",
       "      <td>Private</td>\n",
       "      <td>NaN</td>\n",
       "    </tr>\n",
       "    <tr>\n",
       "      <th>111</th>\n",
       "      <td>Pace University</td>\n",
       "      <td>NY</td>\n",
       "      <td>New York City</td>\n",
       "      <td>243</td>\n",
       "      <td>Online</td>\n",
       "      <td>31500</td>\n",
       "      <td>1.0</td>\n",
       "      <td>3.0</td>\n",
       "      <td>111800</td>\n",
       "      <td>Not Needed</td>\n",
       "      <td>Private</td>\n",
       "      <td>NaN</td>\n",
       "    </tr>\n",
       "    <tr>\n",
       "      <th>112</th>\n",
       "      <td>Chapman University</td>\n",
       "      <td>CA</td>\n",
       "      <td>Orange</td>\n",
       "      <td>246</td>\n",
       "      <td>Offline</td>\n",
       "      <td>54095</td>\n",
       "      <td>2.0</td>\n",
       "      <td>3.0</td>\n",
       "      <td>102100</td>\n",
       "      <td>Needed</td>\n",
       "      <td>Private</td>\n",
       "      <td>http://www.chapman.edu</td>\n",
       "    </tr>\n",
       "    <tr>\n",
       "      <th>113</th>\n",
       "      <td>Adelphi University</td>\n",
       "      <td>NY</td>\n",
       "      <td>Garden City</td>\n",
       "      <td>249</td>\n",
       "      <td>Offline</td>\n",
       "      <td>42600</td>\n",
       "      <td>1.5</td>\n",
       "      <td>3.0</td>\n",
       "      <td>94800</td>\n",
       "      <td>Not Needed</td>\n",
       "      <td>Private</td>\n",
       "      <td>NaN</td>\n",
       "    </tr>\n",
       "  </tbody>\n",
       "</table>\n",
       "<p>114 rows × 12 columns</p>\n",
       "</div>"
      ],
      "text/plain": [
       "                           School Name State           City  Ranking   Online  \\\n",
       "0                  Columbia University    NY  New York City        5  Offline   \n",
       "1           University of Texas-Austin    TX         Austin       45   Online   \n",
       "2    University of Southern California    CA    Los Angeles       17  Offline   \n",
       "3                  University of Miami    FL          Miami       87  Offline   \n",
       "4                  Syracuse University    NY       Syracuse      113   Online   \n",
       "..                                 ...   ...            ...      ...      ...   \n",
       "109           Georgia State University    GA        Atlanta      241  Offline   \n",
       "110                    Pace University    NY  New York City      243  Offline   \n",
       "111                    Pace University    NY  New York City      243   Online   \n",
       "112                 Chapman University    CA         Orange      246  Offline   \n",
       "113                 Adelphi University    NY    Garden City      249  Offline   \n",
       "\n",
       "     Total_Tuition_Cost  Program_Years_Full_Time  Min_Undergraduate_GPA  \\\n",
       "0                 68160                      1.0                    3.7   \n",
       "1                 10000                      2.0                    3.0   \n",
       "2                 47880                      1.5                    3.5   \n",
       "3                 66390                      1.5                    3.0   \n",
       "4                 58956                      1.5                    3.0   \n",
       "..                  ...                      ...                    ...   \n",
       "109               45000                      1.0                    3.0   \n",
       "110               41250                      1.0                    3.0   \n",
       "111               31500                      1.0                    3.0   \n",
       "112               54095                      2.0                    3.0   \n",
       "113               42600                      1.5                    3.0   \n",
       "\n",
       "     Median_Salary_10yr    Need_GRE Institution Type  \\\n",
       "0                132100  Not Needed          Private   \n",
       "1                115600      Needed           Public   \n",
       "2                126300  Not Needed          Private   \n",
       "3                101000  Not Needed          Private   \n",
       "4                109100  Not Needed          Private   \n",
       "..                  ...         ...              ...   \n",
       "109               90900  Not Needed           Public   \n",
       "110              111800  Not Needed          Private   \n",
       "111              111800  Not Needed          Private   \n",
       "112              102100      Needed          Private   \n",
       "113               94800  Not Needed          Private   \n",
       "\n",
       "                                           LINK  \n",
       "0                                           NaN  \n",
       "1                                           NaN  \n",
       "2                   http://www.marshall.usc.edu  \n",
       "3                      http://www.bus.miami.edu  \n",
       "4    https://requestinfo.onlinebusiness.syr.edu  \n",
       "..                                          ...  \n",
       "109         http://specialized.robinson.gsu.edu  \n",
       "110                                         NaN  \n",
       "111                                         NaN  \n",
       "112                      http://www.chapman.edu  \n",
       "113                                         NaN  \n",
       "\n",
       "[114 rows x 12 columns]"
      ]
     },
     "execution_count": 25,
     "metadata": {},
     "output_type": "execute_result"
    }
   ],
   "source": [
    "data_transformation.original()\n"
   ]
  },
  {
   "cell_type": "code",
   "execution_count": 24,
   "metadata": {},
   "outputs": [
    {
     "name": "stdout",
     "output_type": "stream",
     "text": [
      "[2024-03-25 11:22:39,566: INFO: common: binary file saved at: artifacts/data_transformation/original.joblib]\n",
      "[2024-03-25 11:22:39,591: INFO: common: binary file saved at: artifacts/data_transformation/Scaling.joblib]\n"
     ]
    },
    {
     "data": {
      "text/plain": [
       "0                                             NaN\n",
       "1                                             NaN\n",
       "2                     http://www.marshall.usc.edu\n",
       "3                        http://www.bus.miami.edu\n",
       "4      https://requestinfo.onlinebusiness.syr.edu\n",
       "                          ...                    \n",
       "109           http://specialized.robinson.gsu.edu\n",
       "110                                           NaN\n",
       "111                                           NaN\n",
       "112                        http://www.chapman.edu\n",
       "113                                           NaN\n",
       "Name: LINK, Length: 114, dtype: object"
      ]
     },
     "execution_count": 24,
     "metadata": {},
     "output_type": "execute_result"
    }
   ],
   "source": [
    "data_transformation.original()[\"LINK\"]"
   ]
  },
  {
   "cell_type": "code",
   "execution_count": 18,
   "metadata": {},
   "outputs": [],
   "source": [
    "data_transformation.transform()"
   ]
  },
  {
   "cell_type": "code",
   "execution_count": 19,
   "metadata": {},
   "outputs": [
    {
     "name": "stdout",
     "output_type": "stream",
     "text": [
      "[2024-03-25 11:20:49,337: INFO: common: binary file saved at: artifacts/data_transformation/distances_Data.joblib]\n"
     ]
    }
   ],
   "source": [
    "data_transformation.distances()"
   ]
  },
  {
   "cell_type": "code",
   "execution_count": 20,
   "metadata": {},
   "outputs": [
    {
     "name": "stdout",
     "output_type": "stream",
     "text": [
      "[2024-03-25 11:20:49,780: INFO: 2166119786: Saved data for training]\n",
      "[2024-03-25 11:20:49,785: INFO: common: binary file saved at: artifacts/data_transformation/ds_cols.joblib]\n",
      "[2024-03-25 11:20:49,787: INFO: 2166119786: Saved columns names]\n"
     ]
    }
   ],
   "source": [
    "data_transformation.save_train_Data()"
   ]
  },
  {
   "cell_type": "code",
   "execution_count": null,
   "metadata": {},
   "outputs": [],
   "source": []
  },
  {
   "cell_type": "code",
   "execution_count": null,
   "metadata": {},
   "outputs": [],
   "source": []
  }
 ],
 "metadata": {
  "kernelspec": {
   "display_name": "recommend",
   "language": "python",
   "name": "python3"
  },
  "language_info": {
   "codemirror_mode": {
    "name": "ipython",
    "version": 3
   },
   "file_extension": ".py",
   "mimetype": "text/x-python",
   "name": "python",
   "nbconvert_exporter": "python",
   "pygments_lexer": "ipython3",
   "version": "3.12.2"
  }
 },
 "nbformat": 4,
 "nbformat_minor": 2
}
